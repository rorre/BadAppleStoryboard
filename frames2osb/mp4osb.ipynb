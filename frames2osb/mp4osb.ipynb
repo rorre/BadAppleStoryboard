{
 "metadata": {
  "language_info": {
   "codemirror_mode": {
    "name": "ipython",
    "version": 3
   },
   "file_extension": ".py",
   "mimetype": "text/x-python",
   "name": "python",
   "nbconvert_exporter": "python",
   "pygments_lexer": "ipython3",
   "version": "3.9.4"
  },
  "orig_nbformat": 2,
  "kernelspec": {
   "name": "python394jvsc74a57bd0247ab06e135bb35fa78c5eff31b2a9a0050dcb5fb773c2631d2a29ac689eeccb",
   "display_name": "Python 3.9.4 64-bit"
  },
  "metadata": {
   "interpreter": {
    "hash": "247ab06e135bb35fa78c5eff31b2a9a0050dcb5fb773c2631d2a29ac689eeccb"
   }
  }
 },
 "nbformat": 4,
 "nbformat_minor": 2,
 "cells": [
  {
   "cell_type": "markdown",
   "source": [
    "# Bad Apple Storyboard\n",
    "This is a notebook to convert bad apple video to osu! storyboard, in order to do it, you need the following requirements:\n",
    "- Python 3.8 (Due to typing)\n",
    "- Ffmpeg\n",
    "- osbpy\n",
    "- Pillow\n",
    "- tqdm\n",
    "\n",
    "## Install Dependencies\n",
    "To install them, run the following command."
   ],
   "metadata": {}
  },
  {
   "cell_type": "code",
   "execution_count": 1,
   "source": [
    "# Please install ffmpeg on your own.\n",
    "# https://ffmpeg.org/download.html\n",
    "!pip install osbpy pillow tqdm"
   ],
   "outputs": [
    {
     "output_type": "stream",
     "name": "stdout",
     "text": [
      "Requirement already satisfied: osbpy in c:\\users\\user\\appdata\\local\\programs\\python\\python39\\lib\\site-packages (3.0.1)\n",
      "Requirement already satisfied: numpy in c:\\users\\user\\appdata\\local\\programs\\python\\python39\\lib\\site-packages (1.19.4)\n",
      "Requirement already satisfied: pillow in c:\\users\\user\\appdata\\local\\programs\\python\\python39\\lib\\site-packages (8.2.0)\n",
      "Requirement already satisfied: tqdm in c:\\users\\user\\appdata\\local\\programs\\python\\python39\\lib\\site-packages (4.54.1)\n",
      "Requirement already satisfied: scipy>=1.1.0 in c:\\users\\user\\appdata\\local\\programs\\python\\python39\\lib\\site-packages (from osbpy) (1.6.3)\n",
      "Requirement already satisfied: matplotlib>=3.0.2 in c:\\users\\user\\appdata\\local\\programs\\python\\python39\\lib\\site-packages (from osbpy) (3.4.2)\n",
      "Requirement already satisfied: python-dateutil>=2.7 in c:\\users\\user\\appdata\\local\\programs\\python\\python39\\lib\\site-packages (from matplotlib>=3.0.2->osbpy) (2.8.1)\n",
      "Requirement already satisfied: pyparsing>=2.2.1 in c:\\users\\user\\appdata\\local\\programs\\python\\python39\\lib\\site-packages (from matplotlib>=3.0.2->osbpy) (2.4.7)\n",
      "Requirement already satisfied: kiwisolver>=1.0.1 in c:\\users\\user\\appdata\\local\\programs\\python\\python39\\lib\\site-packages (from matplotlib>=3.0.2->osbpy) (1.3.1)\n",
      "Requirement already satisfied: cycler>=0.10 in c:\\users\\user\\appdata\\local\\programs\\python\\python39\\lib\\site-packages (from matplotlib>=3.0.2->osbpy) (0.10.0)\n",
      "Requirement already satisfied: six>=1.5 in c:\\users\\user\\appdata\\local\\programs\\python\\python39\\lib\\site-packages (from python-dateutil>=2.7->matplotlib>=3.0.2->osbpy) (1.15.0)\n",
      "WARNING: You are using pip version 20.2.3; however, version 21.1.2 is available.\n",
      "You should consider upgrading via the 'c:\\users\\user\\appdata\\local\\programs\\python\\python39\\python.exe -m pip install --upgrade pip' command.\n"
     ]
    }
   ],
   "metadata": {}
  },
  {
   "cell_type": "markdown",
   "source": [
    "# Extract Frames\n",
    "\n",
    "Next, we need to extract frames from the video. (Please edit `badapple.mp4` with your video path, and `30` with `fps`)"
   ],
   "metadata": {}
  },
  {
   "cell_type": "code",
   "execution_count": 2,
   "source": [
    "import os\n",
    "os.makedirs(\"frames\", exist_ok=True)\n",
    "!ffmpeg -i badapple.mp4 -r 30 frames/%03d.jpg"
   ],
   "outputs": [
    {
     "output_type": "stream",
     "name": "stderr",
     "text": [
      "ffmpeg version 4.2.3 Copyright (c) 2000-2020 the FFmpeg developers\n",
      "  built with gcc 9.3.1 (GCC) 20200523\n",
      "  configuration: --enable-gpl --enable-version3 --enable-sdl2 --enable-fontconfig --enable-gnutls --enable-iconv --enable-libass --enable-libdav1d --enable-libbluray --enable-libfreetype --enable-libmp3lame --enable-libopencore-amrnb --enable-libopencore-amrwb --enable-libopenjpeg --enable-libopus --enable-libshine --enable-libsnappy --enable-libsoxr --enable-libtheora --enable-libtwolame --enable-libvpx --enable-libwavpack --enable-libwebp --enable-libx264 --enable-libx265 --enable-libxml2 --enable-libzimg --enable-lzma --enable-zlib --enable-gmp --enable-libvidstab --enable-libvorbis --enable-libvo-amrwbenc --enable-libmysofa --enable-libspeex --enable-libxvid --enable-libaom --enable-libmfx --enable-amf --enable-ffnvcodec --enable-cuvid --enable-d3d11va --enable-nvenc --enable-nvdec --enable-dxva2 --enable-avisynth --enable-libopenmpt\n",
      "  libavutil      56. 31.100 / 56. 31.100\n",
      "  libavcodec     58. 54.100 / 58. 54.100\n",
      "  libavformat    58. 29.100 / 58. 29.100\n",
      "  libavdevice    58.  8.100 / 58.  8.100\n",
      "  libavfilter     7. 57.100 /  7. 57.100\n",
      "  libswscale      5.  5.100 /  5.  5.100\n",
      "  libswresample   3.  5.100 /  3.  5.100\n",
      "  libpostproc    55.  5.100 / 55.  5.100\n",
      "Input #0, mov,mp4,m4a,3gp,3g2,mj2, from 'badapple.mp4':\n",
      "  Metadata:\n",
      "    major_brand     : dash\n",
      "    minor_version   : 0\n",
      "    compatible_brands: iso6avc1mp41\n",
      "    creation_time   : 2017-10-11T11:15:21.000000Z\n",
      "  Duration: 00:03:39.07, start: 0.000000, bitrate: 387 kb/s\n",
      "    Stream #0:0(und): Video: h264 (Main) (avc1 / 0x31637661), yuv420p(progressive), 960x720 [SAR 1:1 DAR 4:3], 5 kb/s, 30 fps, 30 tbr, 90k tbn, 60 tbc (default)\n",
      "    Metadata:\n",
      "      creation_time   : 2017-10-11T11:15:21.000000Z\n",
      "      handler_name    : VideoHandler\n",
      "Stream mapping:\n",
      "  Stream #0:0 -> #0:0 (h264 (native) -> mjpeg (native))\n",
      "Press [q] to stop, [?] for help\n",
      "[swscaler @ 000002469669db80] deprecated pixel format used, make sure you did set range correctly\n",
      "Output #0, image2, to 'frames/%03d.jpg':\n",
      "  Metadata:\n",
      "    major_brand     : dash\n",
      "    minor_version   : 0\n",
      "    compatible_brands: iso6avc1mp41\n",
      "    encoder         : Lavf58.29.100\n",
      "    Stream #0:0(und): Video: mjpeg, yuvj420p(pc), 960x720 [SAR 1:1 DAR 4:3], q=2-31, 200 kb/s, 30 fps, 30 tbn, 30 tbc (default)\n",
      "    Metadata:\n",
      "      creation_time   : 2017-10-11T11:15:21.000000Z\n",
      "      handler_name    : VideoHandler\n",
      "      encoder         : Lavc58.54.100 mjpeg\n",
      "    Side data:\n",
      "      cpb: bitrate max/min/avg: 0/0/200000 buffer size: 0 vbv_delay: -1\n",
      "frame=  110 fps=0.0 q=24.8 size=N/A time=00:00:03.66 bitrate=N/A speed=7.33x    \n",
      "frame=  223 fps=221 q=24.8 size=N/A time=00:00:07.43 bitrate=N/A speed=7.38x    \n",
      "frame=  334 fps=221 q=24.8 size=N/A time=00:00:11.13 bitrate=N/A speed=7.37x    \n",
      "frame=  450 fps=223 q=24.8 size=N/A time=00:00:15.00 bitrate=N/A speed=7.45x    \n",
      "frame=  561 fps=223 q=24.8 size=N/A time=00:00:18.70 bitrate=N/A speed=7.44x    \n",
      "frame=  667 fps=221 q=24.8 size=N/A time=00:00:22.23 bitrate=N/A speed=7.37x    \n",
      "frame=  775 fps=220 q=24.8 size=N/A time=00:00:25.83 bitrate=N/A speed=7.34x    \n",
      "frame=  881 fps=219 q=24.8 size=N/A time=00:00:29.36 bitrate=N/A speed= 7.3x    \n",
      "frame=  987 fps=218 q=24.8 size=N/A time=00:00:32.90 bitrate=N/A speed=7.27x    \n",
      "frame= 1089 fps=217 q=24.8 size=N/A time=00:00:36.30 bitrate=N/A speed=7.22x    \n",
      "frame= 1189 fps=215 q=24.8 size=N/A time=00:00:39.63 bitrate=N/A speed=7.17x    \n",
      "frame= 1277 fps=212 q=24.8 size=N/A time=00:00:42.56 bitrate=N/A speed=7.06x    \n",
      "frame= 1372 fps=210 q=24.8 size=N/A time=00:00:45.73 bitrate=N/A speed=   7x    \n",
      "frame= 1465 fps=208 q=24.8 size=N/A time=00:00:48.83 bitrate=N/A speed=6.94x    \n",
      "frame= 1557 fps=206 q=24.8 size=N/A time=00:00:51.90 bitrate=N/A speed=6.88x    \n",
      "frame= 1646 fps=205 q=24.8 size=N/A time=00:00:54.86 bitrate=N/A speed=6.82x    \n",
      "frame= 1719 fps=201 q=24.8 size=N/A time=00:00:57.30 bitrate=N/A speed= 6.7x    \n",
      "frame= 1801 fps=199 q=24.8 size=N/A time=00:01:00.03 bitrate=N/A speed=6.63x    \n",
      "frame= 1851 fps=194 q=24.8 size=N/A time=00:01:01.70 bitrate=N/A speed=6.46x    \n",
      "frame= 1926 fps=191 q=24.8 size=N/A time=00:01:04.20 bitrate=N/A speed=6.38x    \n",
      "frame= 2006 fps=190 q=24.8 size=N/A time=00:01:06.86 bitrate=N/A speed=6.33x    \n",
      "frame= 2082 fps=188 q=24.8 size=N/A time=00:01:09.40 bitrate=N/A speed=6.27x    \n",
      "frame= 2173 fps=188 q=24.8 size=N/A time=00:01:12.43 bitrate=N/A speed=6.26x    \n",
      "frame= 2266 fps=188 q=24.8 size=N/A time=00:01:15.53 bitrate=N/A speed=6.26x    \n",
      "frame= 2334 fps=186 q=24.8 size=N/A time=00:01:17.80 bitrate=N/A speed=6.19x    \n",
      "frame= 2400 fps=184 q=24.8 size=N/A time=00:01:20.00 bitrate=N/A speed=6.12x    \n",
      "frame= 2465 fps=182 q=24.8 size=N/A time=00:01:22.16 bitrate=N/A speed=6.05x    \n",
      "frame= 2537 fps=180 q=24.8 size=N/A time=00:01:24.56 bitrate=N/A speed=   6x    \n",
      "frame= 2594 fps=178 q=24.8 size=N/A time=00:01:26.46 bitrate=N/A speed=5.93x    \n",
      "frame= 2666 fps=177 q=24.8 size=N/A time=00:01:28.86 bitrate=N/A speed=5.89x    \n",
      "frame= 2758 fps=177 q=24.8 size=N/A time=00:01:31.93 bitrate=N/A speed=5.89x    \n",
      "frame= 2836 fps=176 q=24.8 size=N/A time=00:01:34.53 bitrate=N/A speed=5.87x    \n",
      "frame= 2923 fps=176 q=24.8 size=N/A time=00:01:37.43 bitrate=N/A speed=5.87x    \n",
      "frame= 3008 fps=176 q=24.8 size=N/A time=00:01:40.26 bitrate=N/A speed=5.86x    \n",
      "frame= 3091 fps=176 q=24.8 size=N/A time=00:01:43.03 bitrate=N/A speed=5.85x    \n",
      "frame= 3149 fps=174 q=24.8 size=N/A time=00:01:44.96 bitrate=N/A speed= 5.8x    \n",
      "frame= 3238 fps=174 q=24.8 size=N/A time=00:01:47.93 bitrate=N/A speed= 5.8x    \n",
      "frame= 3304 fps=173 q=24.8 size=N/A time=00:01:50.13 bitrate=N/A speed=5.76x    \n",
      "frame= 3373 fps=172 q=24.8 size=N/A time=00:01:52.43 bitrate=N/A speed=5.73x    \n",
      "frame= 3434 fps=171 q=24.8 size=N/A time=00:01:54.46 bitrate=N/A speed=5.69x    \n",
      "frame= 3502 fps=170 q=24.8 size=N/A time=00:01:56.73 bitrate=N/A speed=5.66x    \n",
      "frame= 3567 fps=169 q=24.8 size=N/A time=00:01:58.90 bitrate=N/A speed=5.62x    \n",
      "frame= 3624 fps=167 q=24.8 size=N/A time=00:02:00.80 bitrate=N/A speed=5.58x    \n",
      "frame= 3652 fps=165 q=24.8 size=N/A time=00:02:01.73 bitrate=N/A speed= 5.5x    \n",
      "frame= 3700 fps=163 q=24.8 size=N/A time=00:02:03.33 bitrate=N/A speed=5.44x    \n",
      "frame= 3751 fps=162 q=24.8 size=N/A time=00:02:05.03 bitrate=N/A speed= 5.4x    \n",
      "frame= 3823 fps=162 q=24.8 size=N/A time=00:02:07.43 bitrate=N/A speed=5.39x    \n",
      "frame= 3893 fps=161 q=24.8 size=N/A time=00:02:09.76 bitrate=N/A speed=5.37x    \n",
      "frame= 3964 fps=161 q=24.8 size=N/A time=00:02:12.13 bitrate=N/A speed=5.36x    \n",
      "frame= 4042 fps=161 q=24.8 size=N/A time=00:02:14.73 bitrate=N/A speed=5.35x    \n",
      "frame= 4113 fps=160 q=24.8 size=N/A time=00:02:17.10 bitrate=N/A speed=5.34x    \n",
      "frame= 4192 fps=160 q=24.8 size=N/A time=00:02:19.73 bitrate=N/A speed=5.34x    \n",
      "frame= 4269 fps=160 q=24.8 size=N/A time=00:02:22.30 bitrate=N/A speed=5.33x    \n",
      "frame= 4343 fps=160 q=24.8 size=N/A time=00:02:24.76 bitrate=N/A speed=5.32x    \n",
      "frame= 4428 fps=160 q=24.8 size=N/A time=00:02:27.60 bitrate=N/A speed=5.33x    \n",
      "frame= 4500 fps=160 q=24.8 size=N/A time=00:02:30.00 bitrate=N/A speed=5.32x    \n",
      "frame= 4579 fps=160 q=24.8 size=N/A time=00:02:32.63 bitrate=N/A speed=5.32x    \n",
      "frame= 4649 fps=159 q=24.8 size=N/A time=00:02:34.96 bitrate=N/A speed= 5.3x    \n",
      "frame= 4721 fps=159 q=24.8 size=N/A time=00:02:37.36 bitrate=N/A speed= 5.3x    \n",
      "frame= 4777 fps=158 q=24.8 size=N/A time=00:02:39.23 bitrate=N/A speed=5.27x    \n",
      "frame= 4849 fps=158 q=24.8 size=N/A time=00:02:41.63 bitrate=N/A speed=5.26x    \n",
      "frame= 4924 fps=158 q=24.8 size=N/A time=00:02:44.13 bitrate=N/A speed=5.26x    \n",
      "frame= 5000 fps=158 q=24.8 size=N/A time=00:02:46.66 bitrate=N/A speed=5.25x    \n",
      "frame= 5073 fps=157 q=24.8 size=N/A time=00:02:49.10 bitrate=N/A speed=5.25x    \n",
      "frame= 5143 fps=157 q=24.8 size=N/A time=00:02:51.43 bitrate=N/A speed=5.24x    \n",
      "frame= 5215 fps=157 q=24.8 size=N/A time=00:02:53.83 bitrate=N/A speed=5.23x    \n",
      "frame= 5281 fps=157 q=24.8 size=N/A time=00:02:56.03 bitrate=N/A speed=5.22x    \n",
      "frame= 5346 fps=156 q=24.8 size=N/A time=00:02:58.20 bitrate=N/A speed= 5.2x    \n",
      "frame= 5418 fps=156 q=24.8 size=N/A time=00:03:00.60 bitrate=N/A speed= 5.2x    \n",
      "frame= 5469 fps=155 q=24.8 size=N/A time=00:03:02.30 bitrate=N/A speed=5.17x    \n",
      "frame= 5534 fps=155 q=24.8 size=N/A time=00:03:04.46 bitrate=N/A speed=5.16x    \n",
      "frame= 5597 fps=154 q=24.8 size=N/A time=00:03:06.56 bitrate=N/A speed=5.15x    \n",
      "frame= 5662 fps=154 q=24.8 size=N/A time=00:03:08.73 bitrate=N/A speed=5.13x    \n",
      "frame= 5719 fps=153 q=24.8 size=N/A time=00:03:10.63 bitrate=N/A speed=5.12x    \n",
      "frame= 5762 fps=153 q=24.8 size=N/A time=00:03:12.06 bitrate=N/A speed=5.09x    \n",
      "frame= 5814 fps=152 q=24.8 size=N/A time=00:03:13.80 bitrate=N/A speed=5.06x    \n",
      "frame= 5861 fps=151 q=24.8 size=N/A time=00:03:15.36 bitrate=N/A speed=5.04x    \n",
      "frame= 5940 fps=151 q=24.8 size=N/A time=00:03:18.00 bitrate=N/A speed=5.04x    \n",
      "frame= 5986 fps=150 q=24.8 size=N/A time=00:03:19.53 bitrate=N/A speed=5.01x    \n",
      "frame= 6034 fps=150 q=24.8 size=N/A time=00:03:21.13 bitrate=N/A speed=4.99x    \n",
      "frame= 6092 fps=149 q=24.8 size=N/A time=00:03:23.06 bitrate=N/A speed=4.97x    \n",
      "frame= 6149 fps=149 q=24.8 size=N/A time=00:03:24.96 bitrate=N/A speed=4.95x    \n",
      "frame= 6204 fps=148 q=24.8 size=N/A time=00:03:26.80 bitrate=N/A speed=4.94x    \n",
      "frame= 6267 fps=148 q=24.8 size=N/A time=00:03:28.90 bitrate=N/A speed=4.93x    \n",
      "frame= 6339 fps=148 q=24.8 size=N/A time=00:03:31.30 bitrate=N/A speed=4.92x    \n",
      "frame= 6413 fps=148 q=24.8 size=N/A time=00:03:33.76 bitrate=N/A speed=4.92x    \n",
      "frame= 6457 fps=147 q=24.8 size=N/A time=00:03:35.23 bitrate=N/A speed= 4.9x    \n",
      "frame= 6535 fps=147 q=24.8 size=N/A time=00:03:37.83 bitrate=N/A speed= 4.9x    \n",
      "frame= 6572 fps=147 q=24.8 Lsize=N/A time=00:03:39.06 bitrate=N/A speed=4.91x    \n",
      "video:49529kB audio:0kB subtitle:0kB other streams:0kB global headers:0kB muxing overhead: unknown\n"
     ]
    }
   ],
   "metadata": {}
  },
  {
   "cell_type": "markdown",
   "source": [
    "# Set Generator Method\n",
    "Before we go, we need to set up which method should we use to generate the storyboard. Currently, there are two options available:\n",
    "- Quadtree: Basically how it works is making each frame a chunk of 4 and repeat it. This is recommended because the result would have less particles being rendered at once.\n",
    "- Pixels: Think of it as if how monitors work, you light up each pixels.\n",
    "\n",
    "The default is to use Quadtree."
   ],
   "metadata": {}
  },
  {
   "cell_type": "code",
   "execution_count": 4,
   "source": [
    "USE_PIXELS=False\n",
    "if USE_PIXELS:\n",
    "    from pixels import osb, pixel_extract\n",
    "else:\n",
    "    from quadtree import osb, pixel_extract"
   ],
   "outputs": [],
   "metadata": {}
  },
  {
   "cell_type": "markdown",
   "source": [
    "# Extract Alpha Data\n",
    "Up next, we need to extract all alpha data from every single frame from the video.\n",
    "By default, it splits to 16 chunks of data and running in 2 threads. If you have big memory, then raise the number of threads and reduce the number of splits, and vice-versa.\n",
    "\n",
    "Please take note that you will need to have at least 6GB of RAM for default config!\n",
    "\n",
    "In this part you will also need to decide how big each square is. Smaller quality means it is more high resolution but more resource exhaustive. However, there is a note:\n",
    "- Quadtree: Your quality needs to be between 0-6.\n",
    "- Pixels: Your quality needs to be a factor of 640 and 480\n",
    "\n",
    "The default for this is 0 for quadtree, 10"
   ],
   "metadata": {}
  },
  {
   "cell_type": "code",
   "execution_count": 5,
   "source": [
    "if USE_PIXELS:\n",
    "    quality = 10\n",
    "else:\n",
    "    quality = 0\n",
    "output_filename = \"thing.osb\""
   ],
   "outputs": [],
   "metadata": {}
  },
  {
   "cell_type": "code",
   "execution_count": 6,
   "source": [
    "pixel_extract.run(\n",
    "    quality,\n",
    "    number_of_thread=2,\n",
    "    number_of_splits=16\n",
    ")"
   ],
   "outputs": [
    {
     "output_type": "error",
     "ename": "TypeError",
     "evalue": "run() got multiple values for argument 'number_of_thread'",
     "traceback": [
      "\u001b[1;31m---------------------------------------------------------------------------\u001b[0m",
      "\u001b[1;31mTypeError\u001b[0m                                 Traceback (most recent call last)",
      "\u001b[1;32m<ipython-input-6-93241d5cd4bb>\u001b[0m in \u001b[0;36m<module>\u001b[1;34m\u001b[0m\n\u001b[1;32m----> 1\u001b[1;33m pixel_extract.run(\n\u001b[0m\u001b[0;32m      2\u001b[0m     \u001b[0mobj_size\u001b[0m\u001b[1;33m,\u001b[0m\u001b[1;33m\u001b[0m\u001b[1;33m\u001b[0m\u001b[0m\n\u001b[0;32m      3\u001b[0m     \u001b[0mnumber_of_thread\u001b[0m\u001b[1;33m=\u001b[0m\u001b[1;36m2\u001b[0m\u001b[1;33m,\u001b[0m\u001b[1;33m\u001b[0m\u001b[1;33m\u001b[0m\u001b[0m\n\u001b[0;32m      4\u001b[0m     \u001b[0mnumber_of_splits\u001b[0m\u001b[1;33m=\u001b[0m\u001b[1;36m16\u001b[0m\u001b[1;33m\u001b[0m\u001b[1;33m\u001b[0m\u001b[0m\n\u001b[0;32m      5\u001b[0m )\n",
      "\u001b[1;31mTypeError\u001b[0m: run() got multiple values for argument 'number_of_thread'"
     ]
    }
   ],
   "metadata": {}
  },
  {
   "cell_type": "markdown",
   "source": [
    "## Generate osb\n",
    "\n",
    "With all of the alpha datas that is available, we can now generate the osb.\n",
    "Please put in the correct fps of the frames you were extracting and the transparency precision, and adjust the music offset.\n",
    "\n",
    "Higher transparency precision means that you will have higher file size and performance bottlenecks."
   ],
   "metadata": {}
  },
  {
   "cell_type": "code",
   "execution_count": null,
   "source": [
    "osb.generate_osb(\n",
    "    quality,\n",
    "    output_filename,\n",
    "    fps=30,\n",
    "    transparency_precision=4,\n",
    "    music_offset=0,\n",
    ")"
   ],
   "outputs": [
    {
     "output_type": "display_data",
     "data": {
      "text/plain": [
       "HBox(children=(HTML(value=''), FloatProgress(value=0.0, max=17.0), HTML(value='')))"
      ],
      "application/vnd.jupyter.widget-view+json": {
       "version_major": 2,
       "version_minor": 0,
       "model_id": "fa3869340f5a41cb9bccf606316fc4b3"
      }
     },
     "metadata": {}
    },
    {
     "output_type": "stream",
     "name": "stdout",
     "text": [
      "\n"
     ]
    }
   ],
   "metadata": {}
  }
 ]
}